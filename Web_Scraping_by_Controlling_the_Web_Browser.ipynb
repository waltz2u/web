{
  "nbformat": 4,
  "nbformat_minor": 0,
  "metadata": {
    "colab": {
      "name": "Web Scraping by Controlling the Web Browser.ipynb",
      "provenance": [],
      "authorship_tag": "ABX9TyOFDLHoqhZqoVvfL+1CBHfn",
      "include_colab_link": true
    },
    "kernelspec": {
      "name": "python3",
      "display_name": "Python 3"
    }
  },
  "cells": [
    {
      "cell_type": "markdown",
      "metadata": {
        "id": "view-in-github",
        "colab_type": "text"
      },
      "source": [
        "<a href=\"https://colab.research.google.com/github/waltz2u/web/blob/master/Web_Scraping_by_Controlling_the_Web_Browser.ipynb\" target=\"_parent\"><img src=\"https://colab.research.google.com/assets/colab-badge.svg\" alt=\"Open In Colab\"/></a>"
      ]
    },
    {
      "cell_type": "code",
      "metadata": {
        "id": "IZmTkWlX5_sh",
        "colab_type": "code",
        "outputId": "da9e8cf2-3390-4c1b-92fc-6dfaf205dc52",
        "colab": {
          "base_uri": "https://localhost:8080/",
          "height": 35
        }
      },
      "source": [
        "! pip install beautifulsoup4"
      ],
      "execution_count": 0,
      "outputs": [
        {
          "output_type": "stream",
          "text": [
            "Requirement already satisfied: beautifulsoup4 in /usr/local/lib/python3.6/dist-packages (4.6.3)\n"
          ],
          "name": "stdout"
        }
      ]
    },
    {
      "cell_type": "code",
      "metadata": {
        "id": "zspjRTrL6P7C",
        "colab_type": "code",
        "outputId": "1e10c9a4-afdd-4186-934a-a62ff244063f",
        "colab": {
          "base_uri": "https://localhost:8080/",
          "height": 143
        }
      },
      "source": [
        "!pip install selenium"
      ],
      "execution_count": 0,
      "outputs": [
        {
          "output_type": "stream",
          "text": [
            "Collecting selenium\n",
            "\u001b[?25l  Downloading https://files.pythonhosted.org/packages/80/d6/4294f0b4bce4de0abf13e17190289f9d0613b0a44e5dd6a7f5ca98459853/selenium-3.141.0-py2.py3-none-any.whl (904kB)\n",
            "\r\u001b[K     |▍                               | 10kB 18.4MB/s eta 0:00:01\r\u001b[K     |▊                               | 20kB 3.1MB/s eta 0:00:01\r\u001b[K     |█                               | 30kB 4.4MB/s eta 0:00:01\r\u001b[K     |█▌                              | 40kB 2.9MB/s eta 0:00:01\r\u001b[K     |█▉                              | 51kB 3.6MB/s eta 0:00:01\r\u001b[K     |██▏                             | 61kB 4.3MB/s eta 0:00:01\r\u001b[K     |██▌                             | 71kB 4.9MB/s eta 0:00:01\r\u001b[K     |███                             | 81kB 5.5MB/s eta 0:00:01\r\u001b[K     |███▎                            | 92kB 6.1MB/s eta 0:00:01\r\u001b[K     |███▋                            | 102kB 4.8MB/s eta 0:00:01\r\u001b[K     |████                            | 112kB 4.8MB/s eta 0:00:01\r\u001b[K     |████▍                           | 122kB 4.8MB/s eta 0:00:01\r\u001b[K     |████▊                           | 133kB 4.8MB/s eta 0:00:01\r\u001b[K     |█████                           | 143kB 4.8MB/s eta 0:00:01\r\u001b[K     |█████▍                          | 153kB 4.8MB/s eta 0:00:01\r\u001b[K     |█████▉                          | 163kB 4.8MB/s eta 0:00:01\r\u001b[K     |██████▏                         | 174kB 4.8MB/s eta 0:00:01\r\u001b[K     |██████▌                         | 184kB 4.8MB/s eta 0:00:01\r\u001b[K     |██████▉                         | 194kB 4.8MB/s eta 0:00:01\r\u001b[K     |███████▎                        | 204kB 4.8MB/s eta 0:00:01\r\u001b[K     |███████▋                        | 215kB 4.8MB/s eta 0:00:01\r\u001b[K     |████████                        | 225kB 4.8MB/s eta 0:00:01\r\u001b[K     |████████▎                       | 235kB 4.8MB/s eta 0:00:01\r\u001b[K     |████████▊                       | 245kB 4.8MB/s eta 0:00:01\r\u001b[K     |█████████                       | 256kB 4.8MB/s eta 0:00:01\r\u001b[K     |█████████▍                      | 266kB 4.8MB/s eta 0:00:01\r\u001b[K     |█████████▉                      | 276kB 4.8MB/s eta 0:00:01\r\u001b[K     |██████████▏                     | 286kB 4.8MB/s eta 0:00:01\r\u001b[K     |██████████▌                     | 296kB 4.8MB/s eta 0:00:01\r\u001b[K     |██████████▉                     | 307kB 4.8MB/s eta 0:00:01\r\u001b[K     |███████████▎                    | 317kB 4.8MB/s eta 0:00:01\r\u001b[K     |███████████▋                    | 327kB 4.8MB/s eta 0:00:01\r\u001b[K     |████████████                    | 337kB 4.8MB/s eta 0:00:01\r\u001b[K     |████████████▎                   | 348kB 4.8MB/s eta 0:00:01\r\u001b[K     |████████████▊                   | 358kB 4.8MB/s eta 0:00:01\r\u001b[K     |█████████████                   | 368kB 4.8MB/s eta 0:00:01\r\u001b[K     |█████████████▍                  | 378kB 4.8MB/s eta 0:00:01\r\u001b[K     |█████████████▊                  | 389kB 4.8MB/s eta 0:00:01\r\u001b[K     |██████████████▏                 | 399kB 4.8MB/s eta 0:00:01\r\u001b[K     |██████████████▌                 | 409kB 4.8MB/s eta 0:00:01\r\u001b[K     |██████████████▉                 | 419kB 4.8MB/s eta 0:00:01\r\u001b[K     |███████████████▏                | 430kB 4.8MB/s eta 0:00:01\r\u001b[K     |███████████████▋                | 440kB 4.8MB/s eta 0:00:01\r\u001b[K     |████████████████                | 450kB 4.8MB/s eta 0:00:01\r\u001b[K     |████████████████▎               | 460kB 4.8MB/s eta 0:00:01\r\u001b[K     |████████████████▋               | 471kB 4.8MB/s eta 0:00:01\r\u001b[K     |█████████████████               | 481kB 4.8MB/s eta 0:00:01\r\u001b[K     |█████████████████▍              | 491kB 4.8MB/s eta 0:00:01\r\u001b[K     |█████████████████▊              | 501kB 4.8MB/s eta 0:00:01\r\u001b[K     |██████████████████▏             | 512kB 4.8MB/s eta 0:00:01\r\u001b[K     |██████████████████▌             | 522kB 4.8MB/s eta 0:00:01\r\u001b[K     |██████████████████▉             | 532kB 4.8MB/s eta 0:00:01\r\u001b[K     |███████████████████▏            | 542kB 4.8MB/s eta 0:00:01\r\u001b[K     |███████████████████▋            | 552kB 4.8MB/s eta 0:00:01\r\u001b[K     |████████████████████            | 563kB 4.8MB/s eta 0:00:01\r\u001b[K     |████████████████████▎           | 573kB 4.8MB/s eta 0:00:01\r\u001b[K     |████████████████████▋           | 583kB 4.8MB/s eta 0:00:01\r\u001b[K     |█████████████████████           | 593kB 4.8MB/s eta 0:00:01\r\u001b[K     |█████████████████████▍          | 604kB 4.8MB/s eta 0:00:01\r\u001b[K     |█████████████████████▊          | 614kB 4.8MB/s eta 0:00:01\r\u001b[K     |██████████████████████          | 624kB 4.8MB/s eta 0:00:01\r\u001b[K     |██████████████████████▌         | 634kB 4.8MB/s eta 0:00:01\r\u001b[K     |██████████████████████▉         | 645kB 4.8MB/s eta 0:00:01\r\u001b[K     |███████████████████████▏        | 655kB 4.8MB/s eta 0:00:01\r\u001b[K     |███████████████████████▌        | 665kB 4.8MB/s eta 0:00:01\r\u001b[K     |████████████████████████        | 675kB 4.8MB/s eta 0:00:01\r\u001b[K     |████████████████████████▎       | 686kB 4.8MB/s eta 0:00:01\r\u001b[K     |████████████████████████▋       | 696kB 4.8MB/s eta 0:00:01\r\u001b[K     |█████████████████████████       | 706kB 4.8MB/s eta 0:00:01\r\u001b[K     |█████████████████████████▍      | 716kB 4.8MB/s eta 0:00:01\r\u001b[K     |█████████████████████████▊      | 727kB 4.8MB/s eta 0:00:01\r\u001b[K     |██████████████████████████      | 737kB 4.8MB/s eta 0:00:01\r\u001b[K     |██████████████████████████▍     | 747kB 4.8MB/s eta 0:00:01\r\u001b[K     |██████████████████████████▉     | 757kB 4.8MB/s eta 0:00:01\r\u001b[K     |███████████████████████████▏    | 768kB 4.8MB/s eta 0:00:01\r\u001b[K     |███████████████████████████▌    | 778kB 4.8MB/s eta 0:00:01\r\u001b[K     |████████████████████████████    | 788kB 4.8MB/s eta 0:00:01\r\u001b[K     |████████████████████████████▎   | 798kB 4.8MB/s eta 0:00:01\r\u001b[K     |████████████████████████████▋   | 808kB 4.8MB/s eta 0:00:01\r\u001b[K     |█████████████████████████████   | 819kB 4.8MB/s eta 0:00:01\r\u001b[K     |█████████████████████████████▍  | 829kB 4.8MB/s eta 0:00:01\r\u001b[K     |█████████████████████████████▊  | 839kB 4.8MB/s eta 0:00:01\r\u001b[K     |██████████████████████████████  | 849kB 4.8MB/s eta 0:00:01\r\u001b[K     |██████████████████████████████▍ | 860kB 4.8MB/s eta 0:00:01\r\u001b[K     |██████████████████████████████▉ | 870kB 4.8MB/s eta 0:00:01\r\u001b[K     |███████████████████████████████▏| 880kB 4.8MB/s eta 0:00:01\r\u001b[K     |███████████████████████████████▌| 890kB 4.8MB/s eta 0:00:01\r\u001b[K     |███████████████████████████████▉| 901kB 4.8MB/s eta 0:00:01\r\u001b[K     |████████████████████████████████| 911kB 4.8MB/s \n",
            "\u001b[?25hRequirement already satisfied: urllib3 in /usr/local/lib/python3.6/dist-packages (from selenium) (1.24.3)\n",
            "Installing collected packages: selenium\n",
            "Successfully installed selenium-3.141.0\n"
          ],
          "name": "stdout"
        }
      ]
    },
    {
      "cell_type": "code",
      "metadata": {
        "id": "yVj24nNT7HQS",
        "colab_type": "code",
        "outputId": "e29869f5-6782-4493-ece4-3a98e9e2cfdb",
        "colab": {
          "base_uri": "https://localhost:8080/",
          "height": 196
        }
      },
      "source": [
        "!pip install chromedriver_binary"
      ],
      "execution_count": 0,
      "outputs": [
        {
          "output_type": "stream",
          "text": [
            "Collecting chromedriver_binary\n",
            "  Downloading https://files.pythonhosted.org/packages/97/25/e389f9da7b83b218f4a3b76f8bf9b8e36f6ec15e9a8e534ae5181e216325/chromedriver-binary-81.0.4044.20.0.tar.gz\n",
            "Building wheels for collected packages: chromedriver-binary\n",
            "  Building wheel for chromedriver-binary (setup.py) ... \u001b[?25l\u001b[?25hdone\n",
            "  Created wheel for chromedriver-binary: filename=chromedriver_binary-81.0.4044.20.0-cp36-none-any.whl size=4961602 sha256=612ec57d84871a822c3cdb7c5acab32d574611980696c1cc05fa43924f29b209\n",
            "  Stored in directory: /root/.cache/pip/wheels/72/a3/67/0d7d673daf5efe5458e145bf84b866be472d39ed8fc38ae9d6\n",
            "Successfully built chromedriver-binary\n",
            "Installing collected packages: chromedriver-binary\n",
            "Successfully installed chromedriver-binary-81.0.4044.20.0\n"
          ],
          "name": "stdout"
        }
      ]
    },
    {
      "cell_type": "code",
      "metadata": {
        "id": "hEm3BfQ8DEr6",
        "colab_type": "code",
        "outputId": "8f50ea3e-71cb-4100-982a-135043a43627",
        "colab": {
          "base_uri": "https://localhost:8080/",
          "height": 1000
        }
      },
      "source": [
        "!apt-get update # to update ubuntu to correctly run apt install\n",
        "!apt install chromium-chromedriver\n",
        "!cp /usr/lib/chromium-browser/chromedriver /usr/bin"
      ],
      "execution_count": 0,
      "outputs": [
        {
          "output_type": "stream",
          "text": [
            "\r0% [Working]\r            \rIgn:1 https://developer.download.nvidia.com/compute/cuda/repos/ubuntu1804/x86_64  InRelease\n",
            "\r0% [Connecting to archive.ubuntu.com (91.189.88.149)] [Connecting to security.u\r                                                                               \rIgn:2 https://developer.download.nvidia.com/compute/machine-learning/repos/ubuntu1804/x86_64  InRelease\n",
            "\r0% [Waiting for headers] [Waiting for headers] [Connected to cloud.r-project.or\r                                                                               \rHit:3 https://developer.download.nvidia.com/compute/cuda/repos/ubuntu1804/x86_64  Release\n",
            "\r0% [Waiting for headers] [Waiting for headers] [Connected to cloud.r-project.or\r0% [Release.gpg gpgv 564 B] [Waiting for headers] [Waiting for headers] [Waitin\r                                                                               \rHit:4 https://developer.download.nvidia.com/compute/machine-learning/repos/ubuntu1804/x86_64  Release\n",
            "\r0% [Release.gpg gpgv 564 B] [Waiting for headers] [Waiting for headers] [Waitin\r                                                                               \rGet:5 https://cloud.r-project.org/bin/linux/ubuntu bionic-cran35/ InRelease [3,626 B]\n",
            "\r0% [Release.gpg gpgv 564 B] [Waiting for headers] [Waiting for headers] [5 InRe\r0% [Release.gpg gpgv 564 B] [Waiting for headers] [Waiting for headers] [Waitin\r                                                                               \rGet:6 http://security.ubuntu.com/ubuntu bionic-security InRelease [88.7 kB]\n",
            "\r0% [Release.gpg gpgv 564 B] [Waiting for headers] [6 InRelease 14.2 kB/88.7 kB \r                                                                               \rGet:7 http://ppa.launchpad.net/graphics-drivers/ppa/ubuntu bionic InRelease [21.3 kB]\n",
            "\r0% [Release.gpg gpgv 564 B] [Waiting for headers] [6 InRelease 14.2 kB/88.7 kB \r                                                                               \rHit:8 http://archive.ubuntu.com/ubuntu bionic InRelease\n",
            "Get:9 http://archive.ubuntu.com/ubuntu bionic-updates InRelease [88.7 kB]\n",
            "Get:12 http://ppa.launchpad.net/marutter/c2d4u3.5/ubuntu bionic InRelease [15.4 kB]\n",
            "Get:13 https://cloud.r-project.org/bin/linux/ubuntu bionic-cran35/ Packages [83.1 kB]\n",
            "Get:14 http://archive.ubuntu.com/ubuntu bionic-backports InRelease [74.6 kB]\n",
            "Get:15 http://ppa.launchpad.net/graphics-drivers/ppa/ubuntu bionic/main amd64 Packages [36.9 kB]\n",
            "Get:16 http://security.ubuntu.com/ubuntu bionic-security/universe amd64 Packages [818 kB]\n",
            "Get:17 http://archive.ubuntu.com/ubuntu bionic-updates/universe amd64 Packages [1,345 kB]\n",
            "Get:18 http://ppa.launchpad.net/marutter/c2d4u3.5/ubuntu bionic/main Sources [1,771 kB]\n",
            "Get:19 http://security.ubuntu.com/ubuntu bionic-security/restricted amd64 Packages [27.5 kB]\n",
            "Get:20 http://security.ubuntu.com/ubuntu bionic-security/main amd64 Packages [817 kB]\n",
            "Get:21 http://security.ubuntu.com/ubuntu bionic-security/multiverse amd64 Packages [7,064 B]\n",
            "Get:22 http://archive.ubuntu.com/ubuntu bionic-updates/main amd64 Packages [1,104 kB]\n",
            "Get:23 http://archive.ubuntu.com/ubuntu bionic-updates/restricted amd64 Packages [41.2 kB]\n",
            "Get:24 http://archive.ubuntu.com/ubuntu bionic-updates/multiverse amd64 Packages [11.1 kB]\n",
            "Get:25 http://archive.ubuntu.com/ubuntu bionic-backports/universe amd64 Packages [4,252 B]\n",
            "Get:26 http://ppa.launchpad.net/marutter/c2d4u3.5/ubuntu bionic/main amd64 Packages [854 kB]\n",
            "Fetched 7,212 kB in 4s (1,677 kB/s)\n",
            "Reading package lists... Done\n",
            "Reading package lists... Done\n",
            "Building dependency tree       \n",
            "Reading state information... Done\n",
            "The following package was automatically installed and is no longer required:\n",
            "  libnvidia-common-430\n",
            "Use 'apt autoremove' to remove it.\n",
            "The following additional packages will be installed:\n",
            "  chromium-browser chromium-browser-l10n chromium-codecs-ffmpeg-extra\n",
            "Suggested packages:\n",
            "  webaccounts-chromium-extension unity-chromium-extension adobe-flashplugin\n",
            "The following NEW packages will be installed:\n",
            "  chromium-browser chromium-browser-l10n chromium-chromedriver\n",
            "  chromium-codecs-ffmpeg-extra\n",
            "0 upgraded, 4 newly installed, 0 to remove and 92 not upgraded.\n",
            "Need to get 74.4 MB of archives.\n",
            "After this operation, 264 MB of additional disk space will be used.\n",
            "Get:1 http://archive.ubuntu.com/ubuntu bionic-updates/universe amd64 chromium-codecs-ffmpeg-extra amd64 80.0.3987.87-0ubuntu0.18.04.1 [1,095 kB]\n",
            "Get:2 http://archive.ubuntu.com/ubuntu bionic-updates/universe amd64 chromium-browser amd64 80.0.3987.87-0ubuntu0.18.04.1 [66.1 MB]\n",
            "Get:3 http://archive.ubuntu.com/ubuntu bionic-updates/universe amd64 chromium-browser-l10n all 80.0.3987.87-0ubuntu0.18.04.1 [3,155 kB]\n",
            "Get:4 http://archive.ubuntu.com/ubuntu bionic-updates/universe amd64 chromium-chromedriver amd64 80.0.3987.87-0ubuntu0.18.04.1 [4,044 kB]\n",
            "Fetched 74.4 MB in 5s (15.1 MB/s)\n",
            "Selecting previously unselected package chromium-codecs-ffmpeg-extra.\n",
            "(Reading database ... 134443 files and directories currently installed.)\n",
            "Preparing to unpack .../chromium-codecs-ffmpeg-extra_80.0.3987.87-0ubuntu0.18.04.1_amd64.deb ...\n",
            "Unpacking chromium-codecs-ffmpeg-extra (80.0.3987.87-0ubuntu0.18.04.1) ...\n",
            "Selecting previously unselected package chromium-browser.\n",
            "Preparing to unpack .../chromium-browser_80.0.3987.87-0ubuntu0.18.04.1_amd64.deb ...\n",
            "Unpacking chromium-browser (80.0.3987.87-0ubuntu0.18.04.1) ...\n",
            "Selecting previously unselected package chromium-browser-l10n.\n",
            "Preparing to unpack .../chromium-browser-l10n_80.0.3987.87-0ubuntu0.18.04.1_all.deb ...\n",
            "Unpacking chromium-browser-l10n (80.0.3987.87-0ubuntu0.18.04.1) ...\n",
            "Selecting previously unselected package chromium-chromedriver.\n",
            "Preparing to unpack .../chromium-chromedriver_80.0.3987.87-0ubuntu0.18.04.1_amd64.deb ...\n",
            "Unpacking chromium-chromedriver (80.0.3987.87-0ubuntu0.18.04.1) ...\n",
            "Setting up chromium-codecs-ffmpeg-extra (80.0.3987.87-0ubuntu0.18.04.1) ...\n",
            "Setting up chromium-browser (80.0.3987.87-0ubuntu0.18.04.1) ...\n",
            "update-alternatives: using /usr/bin/chromium-browser to provide /usr/bin/x-www-browser (x-www-browser) in auto mode\n",
            "update-alternatives: using /usr/bin/chromium-browser to provide /usr/bin/gnome-www-browser (gnome-www-browser) in auto mode\n",
            "Setting up chromium-chromedriver (80.0.3987.87-0ubuntu0.18.04.1) ...\n",
            "Setting up chromium-browser-l10n (80.0.3987.87-0ubuntu0.18.04.1) ...\n",
            "Processing triggers for hicolor-icon-theme (0.17-2) ...\n",
            "Processing triggers for mime-support (3.60ubuntu1) ...\n",
            "Processing triggers for man-db (2.8.3-2ubuntu0.1) ...\n",
            "cp: '/usr/lib/chromium-browser/chromedriver' and '/usr/bin/chromedriver' are the same file\n"
          ],
          "name": "stdout"
        }
      ]
    },
    {
      "cell_type": "code",
      "metadata": {
        "id": "8t15emW3Dr98",
        "colab_type": "code",
        "colab": {}
      },
      "source": [
        "import sys\n",
        "sys.path.insert(0,'/usr/lib/chromium-browser/chromedriver')"
      ],
      "execution_count": 0,
      "outputs": []
    },
    {
      "cell_type": "code",
      "metadata": {
        "id": "MbXG4du_DA_7",
        "colab_type": "code",
        "outputId": "e0909855-ebd1-49ea-a71b-6bf6f3411028",
        "colab": {
          "base_uri": "https://localhost:8080/",
          "height": 211
        }
      },
      "source": [
        "!pip install altair "
      ],
      "execution_count": 0,
      "outputs": [
        {
          "output_type": "stream",
          "text": [
            "Requirement already satisfied: altair in /usr/local/lib/python3.6/dist-packages (4.0.1)\n",
            "Requirement already satisfied: toolz in /usr/local/lib/python3.6/dist-packages (from altair) (0.10.0)\n",
            "Requirement already satisfied: jinja2 in /usr/local/lib/python3.6/dist-packages (from altair) (2.11.1)\n",
            "Requirement already satisfied: jsonschema in /usr/local/lib/python3.6/dist-packages (from altair) (2.6.0)\n",
            "Requirement already satisfied: numpy in /usr/local/lib/python3.6/dist-packages (from altair) (1.17.5)\n",
            "Requirement already satisfied: entrypoints in /usr/local/lib/python3.6/dist-packages (from altair) (0.3)\n",
            "Requirement already satisfied: pandas in /usr/local/lib/python3.6/dist-packages (from altair) (0.25.3)\n",
            "Requirement already satisfied: MarkupSafe>=0.23 in /usr/local/lib/python3.6/dist-packages (from jinja2->altair) (1.1.1)\n",
            "Requirement already satisfied: pytz>=2017.2 in /usr/local/lib/python3.6/dist-packages (from pandas->altair) (2018.9)\n",
            "Requirement already satisfied: python-dateutil>=2.6.1 in /usr/local/lib/python3.6/dist-packages (from pandas->altair) (2.6.1)\n",
            "Requirement already satisfied: six>=1.5 in /usr/local/lib/python3.6/dist-packages (from python-dateutil>=2.6.1->pandas->altair) (1.12.0)\n"
          ],
          "name": "stdout"
        }
      ]
    },
    {
      "cell_type": "markdown",
      "metadata": {
        "id": "3REY6vtXGIOQ",
        "colab_type": "text"
      },
      "source": [
        "## Read data from Web (HTML)"
      ]
    },
    {
      "cell_type": "code",
      "metadata": {
        "id": "NtzhlDlqEBcA",
        "colab_type": "code",
        "colab": {}
      },
      "source": [
        "from selenium import webdriver\n",
        "chrome_options = webdriver.ChromeOptions()\n",
        "chrome_options.add_argument('--headless')\n",
        "chrome_options.add_argument('--no-sandbox')\n",
        "chrome_options.add_argument('--disable-dev-shm-usage')\n",
        "wd = webdriver.Chrome(executable_path='/usr/bin/chromedriver',options=chrome_options)\n",
        "wd.get(\"https://www.amazon.com\")\n",
        "# print(wd.page_source) # results"
      ],
      "execution_count": 0,
      "outputs": []
    }
  ]
}